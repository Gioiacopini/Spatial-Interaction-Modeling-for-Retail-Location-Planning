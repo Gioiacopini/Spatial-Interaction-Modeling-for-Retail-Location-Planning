{
 "cells": [
  {
   "cell_type": "markdown",
   "metadata": {},
   "source": [
    "# Prediction of Grocery Store Sales Using Spatial Interaction Modelling (SIM)\n",
    "<hr>\n",
    "This project is inspired by the Spatial Modelling for Retail Analytics course offered by the [Consumer Data Research Center (CDRC)](https://www.cdrc.ac.uk/) I recently attended. The course was held by [Dr. Andy Newing](https://environment.leeds.ac.uk/geography/staff/1081/dr-andy-newing) and [Dr. Nick Hood](https://environment.leeds.ac.uk/geography/staff/1051/dr-nick-hood). Andy and Nick did a wanderful job at introducing the class to sophisticated analysis and spatial modelling approaches that can be used to understand retail sector dynamics. Please check out all the CDRC courses and events [here](https://www.cdrc.ac.uk/events/).\n",
    "\n",
    "The technique that stood out the most to me was **Spatial Interaction Modelling**. This technique is used in social sciences to predict and describe behaviours that mimic gravitation interactions as described by Isaac Newton's law of gravity. \n",
    "\n",
    "Three independent conditions are necessary for spatial interaction to occur: \n",
    "* Complementarity: There must be supply and demand between the interacting locations. In the specific case of retailing, the supply side are the retail points, while the deman side is the available expenditure of customers. \n",
    "* Intervening opportunity (lack of): Refers to a location that may offer a better alternative as a point of origin or as a point of destination. In retail for example, a customer visits a store becasue he/she must not have a closer store that offers similar array of goods. \n",
    "* Transferability: Persons being transferred must be supported by transport infrastructures implying that origin and destination must be linked. the cost to overcome distance must not be higher than the benefits of the interaction. \n",
    "\n",
    "Spatial interaction models seek to explain spatial flows between **origins** and **destinations**. In this example, the aim is to predict the flow of money into Sheffield grocery stores, given their location, and the available expenditure of the consumers in the modelled area. \n",
    "\n",
    "The relationship between money flow, destinations and origins is given by the equation below: \n",
    "\n",
    "$$ S_{ij} = A_iO_iW_j exp(-\\beta C_{ij}) $$\n",
    "\n",
    "Where, \n",
    "\n",
    "* $S_{ij}$ = flow of expected flow of supermarket $j$ from orgin $i$ \n",
    "\n",
    "* $A_i$ = balancing factor that takes into account competition and ensures that demand is allocated to stores within the modelled region. it is calculated as: \n",
    "\n",
    "$$ A_i = \\frac{1}{\\sum W_j exp (-\\beta C_{ij})}$$\n",
    " \n",
    "* $W_j$ = represents the overall attractiveness of store j. In this case size is used as a proxy of attractiveness. \n",
    "* $exp(-\\beta C_{ij})$ = represents the distance deterrence term. $\\beta$ is between 0 and 1. $\\beta$ = 0 means that the consumer does not mind travelling. $\\beta$ = 1 means that the consumer does not want to travel. $C_ij$ represents the distance between origin and supermarket. \n",
    "\n",
    "\n",
    "\n",
    "\n",
    "\n",
    "\n",
    "### Important:\n",
    "This analysis is an adaptation of Dr. Andy Newing's and Dr. Nick Hood's example projects at the CDRC course on Spacial Modelling for Retail Analytics. During the course the computations were made in Excel, I just applied the same models and ideas to a different dataset and modelled the analysis in Python. \n",
    "\n"
   ]
  },
  {
   "cell_type": "code",
   "execution_count": 946,
   "metadata": {},
   "outputs": [],
   "source": [
    "# Import packages\n",
    "\n",
    "import matplotlib.pyplot as plt\n",
    "import pandas as pd\n",
    "from datetime import datetime\n",
    "import numpy as np\n",
    "from collections import Counter\n",
    "from math import log, sqrt\n",
    "import warnings\n",
    "from mpl_toolkits.basemap import Basemap\n",
    "from random import randint\n",
    "from scipy.spatial import distance_matrix\n",
    "from sklearn.metrics.pairwise import euclidean_distances\n",
    "import scipy as sp\n",
    "\n",
    "import plotly\n",
    "import plotly.plotly as py\n",
    "import plotly.graph_objs as go\n",
    "\n",
    "\n",
    "warnings.filterwarnings('ignore')\n",
    "%matplotlib inline"
   ]
  },
  {
   "cell_type": "code",
   "execution_count": 947,
   "metadata": {},
   "outputs": [],
   "source": [
    "# function to count missing data\n",
    "def count_missing(data):\n",
    "    # creates a dataframe containing the sum of all missing values\n",
    "    missing_count = pd.DataFrame(data.isnull().sum(),\\\n",
    "                                 # names column \"Count\" and sorts values in descending order\n",
    "                                 columns=['Count']).sort_values(by=['Count'],\\\n",
    "                                                                ascending=False)\n",
    "    return missing_count"
   ]
  },
  {
   "cell_type": "markdown",
   "metadata": {},
   "source": [
    "## The Data\n",
    "<hr>\n",
    "The data used for this project was downloaded from [Geolytix](https://geolytix.net/?). The dataset contains over 10,000 UK supermarket roof-top locations size information. Retailers include Aldi, Asda, Booths, Budgens, Co-op, Costco, Lidl, Marks and Spencer, Morrisons, Sainsbury’s, Tesco, Waitrose, Wholefoods.\n",
    "\n",
    "I then integrated this data with information regarding the origins, or demand zoens. The demand zones are the wards of the city of Sheffield. \n",
    "Ward data is available from the [Office for National Statistics](https://www.ons.gov.uk/census/2011census)."
   ]
  },
  {
   "cell_type": "code",
   "execution_count": 948,
   "metadata": {},
   "outputs": [],
   "source": [
    "# read geolytics data \n",
    "data_points = pd.read_csv('./retailpoints.csv')"
   ]
  },
  {
   "cell_type": "code",
   "execution_count": 949,
   "metadata": {
    "scrolled": true
   },
   "outputs": [
    {
     "data": {
      "text/html": [
       "<div>\n",
       "<style scoped>\n",
       "    .dataframe tbody tr th:only-of-type {\n",
       "        vertical-align: middle;\n",
       "    }\n",
       "\n",
       "    .dataframe tbody tr th {\n",
       "        vertical-align: top;\n",
       "    }\n",
       "\n",
       "    .dataframe thead th {\n",
       "        text-align: right;\n",
       "    }\n",
       "</style>\n",
       "<table border=\"1\" class=\"dataframe\">\n",
       "  <thead>\n",
       "    <tr style=\"text-align: right;\">\n",
       "      <th></th>\n",
       "      <th>id</th>\n",
       "      <th>retailer</th>\n",
       "      <th>fascia</th>\n",
       "      <th>store_name</th>\n",
       "      <th>add_one</th>\n",
       "      <th>add_two</th>\n",
       "      <th>town</th>\n",
       "      <th>locality</th>\n",
       "      <th>postcode</th>\n",
       "      <th>long_wgs</th>\n",
       "      <th>lat_wgs</th>\n",
       "      <th>bng_e</th>\n",
       "      <th>bng_n</th>\n",
       "      <th>pqi</th>\n",
       "      <th>open_date</th>\n",
       "      <th>close_date</th>\n",
       "      <th>size_band</th>\n",
       "      <th>size_sqft</th>\n",
       "      <th>size_sqm</th>\n",
       "    </tr>\n",
       "  </thead>\n",
       "  <tbody>\n",
       "    <tr>\n",
       "      <th>0</th>\n",
       "      <td>1010000001</td>\n",
       "      <td>Aldi</td>\n",
       "      <td>Aldi</td>\n",
       "      <td>Aldi Aberdeen</td>\n",
       "      <td>Unit 9-10 Boulevard Retail Park</td>\n",
       "      <td>NaN</td>\n",
       "      <td>Aberdeen</td>\n",
       "      <td>Central Aberdeen</td>\n",
       "      <td>AB11 5EJ</td>\n",
       "      <td>-2.081728</td>\n",
       "      <td>57.148626</td>\n",
       "      <td>395153.8100</td>\n",
       "      <td>806418.6600</td>\n",
       "      <td>Rooftop geocoded by Geolytix</td>\n",
       "      <td>0</td>\n",
       "      <td>0</td>\n",
       "      <td>3,013 &lt; 15,069 ft2 (280 &lt; 1,400 m2)</td>\n",
       "      <td>Between 3,013 and 15,069</td>\n",
       "      <td>Between 280 and 1,400</td>\n",
       "    </tr>\n",
       "    <tr>\n",
       "      <th>1</th>\n",
       "      <td>1010000002</td>\n",
       "      <td>Aldi</td>\n",
       "      <td>Aldi</td>\n",
       "      <td>Aldi Westhill</td>\n",
       "      <td>Westhill Drive</td>\n",
       "      <td>NaN</td>\n",
       "      <td>Westhill</td>\n",
       "      <td>NaN</td>\n",
       "      <td>AB32 6FY</td>\n",
       "      <td>-2.278341</td>\n",
       "      <td>57.154810</td>\n",
       "      <td>383260.1400</td>\n",
       "      <td>807138.5400</td>\n",
       "      <td>Rooftop geocoded by Geolytix</td>\n",
       "      <td>0</td>\n",
       "      <td>0</td>\n",
       "      <td>3,013 &lt; 15,069 ft2 (280 &lt; 1,400 m2)</td>\n",
       "      <td>Between 3,013 and 15,069</td>\n",
       "      <td>Between 280 and 1,400</td>\n",
       "    </tr>\n",
       "    <tr>\n",
       "      <th>2</th>\n",
       "      <td>1010000003</td>\n",
       "      <td>Aldi</td>\n",
       "      <td>Aldi</td>\n",
       "      <td>Aldi Ellon</td>\n",
       "      <td>Ythan Terrace</td>\n",
       "      <td>NaN</td>\n",
       "      <td>Ellon</td>\n",
       "      <td>NaN</td>\n",
       "      <td>AB41 9LJ</td>\n",
       "      <td>-2.075009</td>\n",
       "      <td>57.363314</td>\n",
       "      <td>395586.8100</td>\n",
       "      <td>830317.9900</td>\n",
       "      <td>Rooftop geocoded by Geolytix</td>\n",
       "      <td>0</td>\n",
       "      <td>0</td>\n",
       "      <td>3,013 &lt; 15,069 ft2 (280 &lt; 1,400 m2)</td>\n",
       "      <td>Between 3,013 and 15,069</td>\n",
       "      <td>Between 280 and 1,400</td>\n",
       "    </tr>\n",
       "    <tr>\n",
       "      <th>3</th>\n",
       "      <td>1010000004</td>\n",
       "      <td>Aldi</td>\n",
       "      <td>Aldi</td>\n",
       "      <td>Aldi Inverurie</td>\n",
       "      <td>Loco Works Road</td>\n",
       "      <td>NaN</td>\n",
       "      <td>Inverurie</td>\n",
       "      <td>NaN</td>\n",
       "      <td>AB51 4FY</td>\n",
       "      <td>-2.380156</td>\n",
       "      <td>57.288771</td>\n",
       "      <td>377183.9088</td>\n",
       "      <td>822081.1258</td>\n",
       "      <td>Rooftop geocoded by Geolytix</td>\n",
       "      <td>0</td>\n",
       "      <td>0</td>\n",
       "      <td>3,013 &lt; 15,069 ft2 (280 &lt; 1,400 m2)</td>\n",
       "      <td>Between 3,013 and 15,069</td>\n",
       "      <td>Between 280 and 1,400</td>\n",
       "    </tr>\n",
       "    <tr>\n",
       "      <th>4</th>\n",
       "      <td>1010000005</td>\n",
       "      <td>Aldi</td>\n",
       "      <td>Aldi</td>\n",
       "      <td>Aldi Hatfield</td>\n",
       "      <td>11 Parkhouse Court</td>\n",
       "      <td>Comet Way</td>\n",
       "      <td>Hatfield</td>\n",
       "      <td>Hatfield</td>\n",
       "      <td>AL10 9RQ</td>\n",
       "      <td>-0.240950</td>\n",
       "      <td>51.763152</td>\n",
       "      <td>521491.8500</td>\n",
       "      <td>208626.7200</td>\n",
       "      <td>Rooftop geocoded by Geolytix</td>\n",
       "      <td>0</td>\n",
       "      <td>0</td>\n",
       "      <td>3,013 &lt; 15,069 ft2 (280 &lt; 1,400 m2)</td>\n",
       "      <td>Between 3,013 and 15,069</td>\n",
       "      <td>Between 280 and 1,400</td>\n",
       "    </tr>\n",
       "  </tbody>\n",
       "</table>\n",
       "</div>"
      ],
      "text/plain": [
       "           id retailer fascia      store_name  \\\n",
       "0  1010000001     Aldi   Aldi   Aldi Aberdeen   \n",
       "1  1010000002     Aldi   Aldi   Aldi Westhill   \n",
       "2  1010000003     Aldi   Aldi      Aldi Ellon   \n",
       "3  1010000004     Aldi   Aldi  Aldi Inverurie   \n",
       "4  1010000005     Aldi   Aldi   Aldi Hatfield   \n",
       "\n",
       "                           add_one    add_two       town          locality  \\\n",
       "0  Unit 9-10 Boulevard Retail Park        NaN   Aberdeen  Central Aberdeen   \n",
       "1                   Westhill Drive        NaN   Westhill               NaN   \n",
       "2                    Ythan Terrace        NaN      Ellon               NaN   \n",
       "3                  Loco Works Road        NaN  Inverurie               NaN   \n",
       "4               11 Parkhouse Court  Comet Way   Hatfield          Hatfield   \n",
       "\n",
       "   postcode  long_wgs    lat_wgs        bng_e        bng_n  \\\n",
       "0  AB11 5EJ -2.081728  57.148626  395153.8100  806418.6600   \n",
       "1  AB32 6FY -2.278341  57.154810  383260.1400  807138.5400   \n",
       "2  AB41 9LJ -2.075009  57.363314  395586.8100  830317.9900   \n",
       "3  AB51 4FY -2.380156  57.288771  377183.9088  822081.1258   \n",
       "4  AL10 9RQ -0.240950  51.763152  521491.8500  208626.7200   \n",
       "\n",
       "                            pqi  open_date  close_date  \\\n",
       "0  Rooftop geocoded by Geolytix          0           0   \n",
       "1  Rooftop geocoded by Geolytix          0           0   \n",
       "2  Rooftop geocoded by Geolytix          0           0   \n",
       "3  Rooftop geocoded by Geolytix          0           0   \n",
       "4  Rooftop geocoded by Geolytix          0           0   \n",
       "\n",
       "                             size_band                 size_sqft  \\\n",
       "0  3,013 < 15,069 ft2 (280 < 1,400 m2)  Between 3,013 and 15,069   \n",
       "1  3,013 < 15,069 ft2 (280 < 1,400 m2)  Between 3,013 and 15,069   \n",
       "2  3,013 < 15,069 ft2 (280 < 1,400 m2)  Between 3,013 and 15,069   \n",
       "3  3,013 < 15,069 ft2 (280 < 1,400 m2)  Between 3,013 and 15,069   \n",
       "4  3,013 < 15,069 ft2 (280 < 1,400 m2)  Between 3,013 and 15,069   \n",
       "\n",
       "                size_sqm  \n",
       "0  Between 280 and 1,400  \n",
       "1  Between 280 and 1,400  \n",
       "2  Between 280 and 1,400  \n",
       "3  Between 280 and 1,400  \n",
       "4  Between 280 and 1,400  "
      ]
     },
     "execution_count": 949,
     "metadata": {},
     "output_type": "execute_result"
    }
   ],
   "source": [
    "# copy data and see how dataset looks \n",
    "retail_points = data_points\n",
    "retail_points.head()"
   ]
  },
  {
   "cell_type": "code",
   "execution_count": 950,
   "metadata": {
    "scrolled": true
   },
   "outputs": [
    {
     "name": "stdout",
     "output_type": "stream",
     "text": [
      "The dataset contains  13859  rows and  19  columns\n"
     ]
    }
   ],
   "source": [
    "print('The dataset contains ', str(retail_points.shape[0]), ' rows and ', str(retail_points.shape[1]), ' columns')"
   ]
  },
  {
   "cell_type": "code",
   "execution_count": 951,
   "metadata": {},
   "outputs": [
    {
     "name": "stdout",
     "output_type": "stream",
     "text": [
      "The dataset contains the following columns\n",
      "['id', 'retailer', 'fascia', 'store_name', 'add_one', 'add_two', 'town', 'locality', 'postcode', 'long_wgs', 'lat_wgs', 'bng_e', 'bng_n', 'pqi', 'open_date', 'close_date', 'size_band', 'size_sqft', 'size_sqm']\n"
     ]
    }
   ],
   "source": [
    "column_names = retail_points.columns.values.tolist()\n",
    "print('The dataset contains the following columns')\n",
    "print(column_names)"
   ]
  },
  {
   "cell_type": "code",
   "execution_count": 952,
   "metadata": {
    "scrolled": false
   },
   "outputs": [
    {
     "name": "stdout",
     "output_type": "stream",
     "text": [
      "the type of items in column  0  is  <class 'numpy.int64'>\n",
      "the type of items in column  1  is  <class 'str'>\n",
      "the type of items in column  2  is  <class 'str'>\n",
      "the type of items in column  3  is  <class 'str'>\n",
      "the type of items in column  4  is  <class 'str'>\n",
      "the type of items in column  5  is  <class 'float'>\n",
      "the type of items in column  6  is  <class 'str'>\n",
      "the type of items in column  7  is  <class 'str'>\n",
      "the type of items in column  8  is  <class 'str'>\n",
      "the type of items in column  9  is  <class 'numpy.float64'>\n",
      "the type of items in column  10  is  <class 'numpy.float64'>\n",
      "the type of items in column  11  is  <class 'numpy.float64'>\n",
      "the type of items in column  12  is  <class 'numpy.float64'>\n",
      "the type of items in column  13  is  <class 'str'>\n",
      "the type of items in column  14  is  <class 'numpy.int64'>\n",
      "the type of items in column  15  is  <class 'numpy.int64'>\n",
      "the type of items in column  16  is  <class 'str'>\n",
      "the type of items in column  17  is  <class 'str'>\n",
      "the type of items in column  18  is  <class 'str'>\n"
     ]
    }
   ],
   "source": [
    "# examine the type of data in the set\n",
    "for i in range(retail_points.shape[1]):\n",
    "    print('the type of items in column ', str(i), ' is ', str(type(retail_points.iloc[0][i])))"
   ]
  },
  {
   "cell_type": "code",
   "execution_count": 953,
   "metadata": {
    "scrolled": true
   },
   "outputs": [
    {
     "data": {
      "text/html": [
       "<div>\n",
       "<style scoped>\n",
       "    .dataframe tbody tr th:only-of-type {\n",
       "        vertical-align: middle;\n",
       "    }\n",
       "\n",
       "    .dataframe tbody tr th {\n",
       "        vertical-align: top;\n",
       "    }\n",
       "\n",
       "    .dataframe thead th {\n",
       "        text-align: right;\n",
       "    }\n",
       "</style>\n",
       "<table border=\"1\" class=\"dataframe\">\n",
       "  <thead>\n",
       "    <tr style=\"text-align: right;\">\n",
       "      <th></th>\n",
       "      <th>Count</th>\n",
       "    </tr>\n",
       "  </thead>\n",
       "  <tbody>\n",
       "    <tr>\n",
       "      <th>add_two</th>\n",
       "      <td>9717</td>\n",
       "    </tr>\n",
       "    <tr>\n",
       "      <th>locality</th>\n",
       "      <td>3955</td>\n",
       "    </tr>\n",
       "    <tr>\n",
       "      <th>id</th>\n",
       "      <td>0</td>\n",
       "    </tr>\n",
       "    <tr>\n",
       "      <th>bng_e</th>\n",
       "      <td>0</td>\n",
       "    </tr>\n",
       "    <tr>\n",
       "      <th>size_sqft</th>\n",
       "      <td>0</td>\n",
       "    </tr>\n",
       "    <tr>\n",
       "      <th>size_band</th>\n",
       "      <td>0</td>\n",
       "    </tr>\n",
       "    <tr>\n",
       "      <th>close_date</th>\n",
       "      <td>0</td>\n",
       "    </tr>\n",
       "    <tr>\n",
       "      <th>open_date</th>\n",
       "      <td>0</td>\n",
       "    </tr>\n",
       "    <tr>\n",
       "      <th>pqi</th>\n",
       "      <td>0</td>\n",
       "    </tr>\n",
       "    <tr>\n",
       "      <th>bng_n</th>\n",
       "      <td>0</td>\n",
       "    </tr>\n",
       "    <tr>\n",
       "      <th>long_wgs</th>\n",
       "      <td>0</td>\n",
       "    </tr>\n",
       "    <tr>\n",
       "      <th>lat_wgs</th>\n",
       "      <td>0</td>\n",
       "    </tr>\n",
       "    <tr>\n",
       "      <th>retailer</th>\n",
       "      <td>0</td>\n",
       "    </tr>\n",
       "    <tr>\n",
       "      <th>postcode</th>\n",
       "      <td>0</td>\n",
       "    </tr>\n",
       "    <tr>\n",
       "      <th>town</th>\n",
       "      <td>0</td>\n",
       "    </tr>\n",
       "    <tr>\n",
       "      <th>add_one</th>\n",
       "      <td>0</td>\n",
       "    </tr>\n",
       "    <tr>\n",
       "      <th>store_name</th>\n",
       "      <td>0</td>\n",
       "    </tr>\n",
       "    <tr>\n",
       "      <th>fascia</th>\n",
       "      <td>0</td>\n",
       "    </tr>\n",
       "    <tr>\n",
       "      <th>size_sqm</th>\n",
       "      <td>0</td>\n",
       "    </tr>\n",
       "  </tbody>\n",
       "</table>\n",
       "</div>"
      ],
      "text/plain": [
       "            Count\n",
       "add_two      9717\n",
       "locality     3955\n",
       "id              0\n",
       "bng_e           0\n",
       "size_sqft       0\n",
       "size_band       0\n",
       "close_date      0\n",
       "open_date       0\n",
       "pqi             0\n",
       "bng_n           0\n",
       "long_wgs        0\n",
       "lat_wgs         0\n",
       "retailer        0\n",
       "postcode        0\n",
       "town            0\n",
       "add_one         0\n",
       "store_name      0\n",
       "fascia          0\n",
       "size_sqm        0"
      ]
     },
     "execution_count": 953,
     "metadata": {},
     "output_type": "execute_result"
    }
   ],
   "source": [
    "# check for missing values\n",
    "count_missing(retail_points)"
   ]
  },
  {
   "cell_type": "markdown",
   "metadata": {},
   "source": [
    "### Filter \n",
    "<hr>\n",
    "For this project I decided to use supermarkets located in the city of Sheffield."
   ]
  },
  {
   "cell_type": "code",
   "execution_count": 954,
   "metadata": {},
   "outputs": [],
   "source": [
    "# subset data to contain grocery stores in sheffield \n",
    "city = 'Sheffield'\n",
    "retail_points_shef = retail_points.loc[retail_points['town'] == city]\n",
    "retail_points_shef = retail_points_shef.reset_index(drop = True)\n"
   ]
  },
  {
   "cell_type": "code",
   "execution_count": 955,
   "metadata": {},
   "outputs": [
    {
     "name": "stdout",
     "output_type": "stream",
     "text": [
      "There are  125  supermarket stores in  Sheffield\n"
     ]
    }
   ],
   "source": [
    "print('There are ', str(retail_points_shef.shape[0]), ' supermarket stores in ', city)"
   ]
  },
  {
   "cell_type": "code",
   "execution_count": 956,
   "metadata": {},
   "outputs": [],
   "source": [
    "# only keep the columns we are interested in \n",
    "retail_points_shef = retail_points_shef.iloc[:, [0,1,8,9,10,11,12,18]]"
   ]
  },
  {
   "cell_type": "code",
   "execution_count": 957,
   "metadata": {
    "scrolled": false
   },
   "outputs": [
    {
     "data": {
      "text/html": [
       "<div>\n",
       "<style scoped>\n",
       "    .dataframe tbody tr th:only-of-type {\n",
       "        vertical-align: middle;\n",
       "    }\n",
       "\n",
       "    .dataframe tbody tr th {\n",
       "        vertical-align: top;\n",
       "    }\n",
       "\n",
       "    .dataframe thead th {\n",
       "        text-align: right;\n",
       "    }\n",
       "</style>\n",
       "<table border=\"1\" class=\"dataframe\">\n",
       "  <thead>\n",
       "    <tr style=\"text-align: right;\">\n",
       "      <th></th>\n",
       "      <th>id</th>\n",
       "      <th>retailer</th>\n",
       "      <th>postcode</th>\n",
       "      <th>long_wgs</th>\n",
       "      <th>lat_wgs</th>\n",
       "      <th>bng_e</th>\n",
       "      <th>bng_n</th>\n",
       "      <th>size_sqm</th>\n",
       "    </tr>\n",
       "  </thead>\n",
       "  <tbody>\n",
       "    <tr>\n",
       "      <th>0</th>\n",
       "      <td>1010000409</td>\n",
       "      <td>Aldi</td>\n",
       "      <td>S13 9BS</td>\n",
       "      <td>-1.393891</td>\n",
       "      <td>53.375428</td>\n",
       "      <td>440420.83</td>\n",
       "      <td>386678.96</td>\n",
       "      <td>Between 280 and 1,400</td>\n",
       "    </tr>\n",
       "    <tr>\n",
       "      <th>1</th>\n",
       "      <td>1010000411</td>\n",
       "      <td>Aldi</td>\n",
       "      <td>S2 4QA</td>\n",
       "      <td>-1.475110</td>\n",
       "      <td>53.372350</td>\n",
       "      <td>435020.06</td>\n",
       "      <td>386293.73</td>\n",
       "      <td>Between 280 and 1,400</td>\n",
       "    </tr>\n",
       "    <tr>\n",
       "      <th>2</th>\n",
       "      <td>1010000414</td>\n",
       "      <td>Aldi</td>\n",
       "      <td>S35 9WN</td>\n",
       "      <td>-1.463917</td>\n",
       "      <td>53.445787</td>\n",
       "      <td>435703.41</td>\n",
       "      <td>394469.17</td>\n",
       "      <td>Between 280 and 1,400</td>\n",
       "    </tr>\n",
       "    <tr>\n",
       "      <th>3</th>\n",
       "      <td>1010000417</td>\n",
       "      <td>Aldi</td>\n",
       "      <td>S6 2BF</td>\n",
       "      <td>-1.487246</td>\n",
       "      <td>53.394762</td>\n",
       "      <td>434194.68</td>\n",
       "      <td>388781.19</td>\n",
       "      <td>Between 280 and 1,400</td>\n",
       "    </tr>\n",
       "    <tr>\n",
       "      <th>4</th>\n",
       "      <td>1010000423</td>\n",
       "      <td>Aldi</td>\n",
       "      <td>S8 0JX</td>\n",
       "      <td>-1.491998</td>\n",
       "      <td>53.344848</td>\n",
       "      <td>433918.19</td>\n",
       "      <td>383226.01</td>\n",
       "      <td>Between 280 and 1,400</td>\n",
       "    </tr>\n",
       "  </tbody>\n",
       "</table>\n",
       "</div>"
      ],
      "text/plain": [
       "           id retailer postcode  long_wgs    lat_wgs      bng_e      bng_n  \\\n",
       "0  1010000409     Aldi  S13 9BS -1.393891  53.375428  440420.83  386678.96   \n",
       "1  1010000411     Aldi   S2 4QA -1.475110  53.372350  435020.06  386293.73   \n",
       "2  1010000414     Aldi  S35 9WN -1.463917  53.445787  435703.41  394469.17   \n",
       "3  1010000417     Aldi   S6 2BF -1.487246  53.394762  434194.68  388781.19   \n",
       "4  1010000423     Aldi   S8 0JX -1.491998  53.344848  433918.19  383226.01   \n",
       "\n",
       "                size_sqm  \n",
       "0  Between 280 and 1,400  \n",
       "1  Between 280 and 1,400  \n",
       "2  Between 280 and 1,400  \n",
       "3  Between 280 and 1,400  \n",
       "4  Between 280 and 1,400  "
      ]
     },
     "execution_count": 957,
     "metadata": {},
     "output_type": "execute_result"
    }
   ],
   "source": [
    "retail_points_shef.head()"
   ]
  },
  {
   "cell_type": "markdown",
   "metadata": {},
   "source": [
    "### Map"
   ]
  },
  {
   "cell_type": "code",
   "execution_count": 958,
   "metadata": {
    "scrolled": true
   },
   "outputs": [
    {
     "data": {
      "image/png": "[encoded data removed]",
      "text/plain": [
       "<Figure size 864x432 with 1 Axes>"
      ]
     },
     "metadata": {},
     "output_type": "display_data"
    }
   ],
   "source": [
    "# map retail points in sheffield\n",
    "# Extract the data we're interested in\n",
    "lat = retail_points_shef['lat_wgs'].values\n",
    "lon = retail_points_shef['long_wgs'].values\n",
    "\n",
    "# How much to zoom from coordinates (in degrees)\n",
    "zoom_scale = 0.02\n",
    "\n",
    "# Setup the bounding box for the zoom and bounds of the map\n",
    "bbox = [np.min(lat)-zoom_scale,np.max(lat)+zoom_scale,\\\n",
    "        np.min(lon)-zoom_scale,np.max(lon)+zoom_scale]\n",
    "\n",
    "plt.figure(figsize=(12,6))\n",
    "\n",
    "# Define the projection, scale, the corners of the map, and the resolution.\n",
    "m = Basemap(projection='merc',llcrnrlat=bbox[0],urcrnrlat=bbox[1],\\\n",
    "            llcrnrlon=bbox[2],urcrnrlon=bbox[3],lat_ts=10,resolution='h')\n",
    "\n",
    "m.drawcoastlines()\n",
    "\n",
    "# draw parallels, meridians, and color boundaries\n",
    "m.drawparallels(np.arange(bbox[0],bbox[1],(bbox[1]-bbox[0])/5),labels=[1,0,0,0])\n",
    "m.drawmeridians(np.arange(bbox[2],bbox[3],(bbox[3]-bbox[2])/5),labels=[0,0,0,1],rotation=45)\n",
    "m.drawmapboundary()\n",
    "\n",
    "# build and plot coordinates onto map\n",
    "x,y = m(lon,lat)\n",
    "m.plot(x,y,'r*',markersize=5)\n",
    "plt.title(\"Retail points in Sheffield\")\n",
    "plt.show()"
   ]
  },
  {
   "cell_type": "markdown",
   "metadata": {},
   "source": [
    "### Data Linkage\n",
    "<hr>\n",
    "It is now time to obtain data regarding the demand side of the analysis. The information we need to obtain is: \n",
    "* How many demand zones are there and what are their locations? \n",
    "* What are the available expenditure of the demand zones? "
   ]
  },
  {
   "cell_type": "code",
   "execution_count": 959,
   "metadata": {},
   "outputs": [],
   "source": [
    "# read postcode data\n",
    "\n",
    "# This data will be used to assign postcodes to wardcodes. \n",
    "postcodes = pd.read_csv('postcodes.csv')"
   ]
  },
  {
   "cell_type": "code",
   "execution_count": 960,
   "metadata": {
    "scrolled": false
   },
   "outputs": [
    {
     "data": {
      "text/html": [
       "<div>\n",
       "<style scoped>\n",
       "    .dataframe tbody tr th:only-of-type {\n",
       "        vertical-align: middle;\n",
       "    }\n",
       "\n",
       "    .dataframe tbody tr th {\n",
       "        vertical-align: top;\n",
       "    }\n",
       "\n",
       "    .dataframe thead th {\n",
       "        text-align: right;\n",
       "    }\n",
       "</style>\n",
       "<table border=\"1\" class=\"dataframe\">\n",
       "  <thead>\n",
       "    <tr style=\"text-align: right;\">\n",
       "      <th></th>\n",
       "      <th>postcode</th>\n",
       "      <th>ward_code</th>\n",
       "    </tr>\n",
       "  </thead>\n",
       "  <tbody>\n",
       "    <tr>\n",
       "      <th>0</th>\n",
       "      <td>AL1 1AG</td>\n",
       "      <td>E05004802</td>\n",
       "    </tr>\n",
       "    <tr>\n",
       "      <th>1</th>\n",
       "      <td>AL1 1AJ</td>\n",
       "      <td>E05004802</td>\n",
       "    </tr>\n",
       "    <tr>\n",
       "      <th>2</th>\n",
       "      <td>AL1 1AR</td>\n",
       "      <td>E05004789</td>\n",
       "    </tr>\n",
       "    <tr>\n",
       "      <th>3</th>\n",
       "      <td>AL1 1AS</td>\n",
       "      <td>E05004799</td>\n",
       "    </tr>\n",
       "    <tr>\n",
       "      <th>4</th>\n",
       "      <td>AL1 1BH</td>\n",
       "      <td>E05004802</td>\n",
       "    </tr>\n",
       "  </tbody>\n",
       "</table>\n",
       "</div>"
      ],
      "text/plain": [
       "  postcode  ward_code\n",
       "0  AL1 1AG  E05004802\n",
       "1  AL1 1AJ  E05004802\n",
       "2  AL1 1AR  E05004789\n",
       "3  AL1 1AS  E05004799\n",
       "4  AL1 1BH  E05004802"
      ]
     },
     "execution_count": 960,
     "metadata": {},
     "output_type": "execute_result"
    }
   ],
   "source": [
    "# make a copy of the dataset \n",
    "pcodes = postcodes\n",
    "# select variables of interest (postcode and wardcode)\n",
    "pcodes = pcodes.iloc[:,[2,6]]\n",
    "# rename columns\n",
    "pcodes = pcodes.rename(index=str, columns={\"pcds\": \"postcode\", \"wd11cd\": \"ward_code\"})\n",
    "pcodes.head()"
   ]
  },
  {
   "cell_type": "code",
   "execution_count": 961,
   "metadata": {},
   "outputs": [],
   "source": [
    "# read sheffield postcode data \n",
    "sheffield_codes = pd.read_csv('./Sheffield_postcodes.csv')"
   ]
  },
  {
   "cell_type": "code",
   "execution_count": 962,
   "metadata": {},
   "outputs": [],
   "source": [
    "# keep only postcodes that are still in use. \n",
    "sheffield_codes = sheffield_codes.loc[sheffield_codes['In Use?']=='Yes',:]\n",
    "# keep only columns that we need \n",
    "sheffield_codes = sheffield_codes.iloc[:,[0,4,5]]\n",
    "# rename dataset columns\n",
    "sheffield_codes = sheffield_codes.rename(index=str, columns={\"Postcode\": \"postcode\", \"Easting\": \"easting\",\n",
    "                                                            'Northing':'northing'})"
   ]
  },
  {
   "cell_type": "code",
   "execution_count": 963,
   "metadata": {},
   "outputs": [
    {
     "data": {
      "text/html": [
       "<div>\n",
       "<style scoped>\n",
       "    .dataframe tbody tr th:only-of-type {\n",
       "        vertical-align: middle;\n",
       "    }\n",
       "\n",
       "    .dataframe tbody tr th {\n",
       "        vertical-align: top;\n",
       "    }\n",
       "\n",
       "    .dataframe thead th {\n",
       "        text-align: right;\n",
       "    }\n",
       "</style>\n",
       "<table border=\"1\" class=\"dataframe\">\n",
       "  <thead>\n",
       "    <tr style=\"text-align: right;\">\n",
       "      <th></th>\n",
       "      <th>ward_code</th>\n",
       "      <th>easting</th>\n",
       "      <th>northing</th>\n",
       "    </tr>\n",
       "  </thead>\n",
       "  <tbody>\n",
       "    <tr>\n",
       "      <th>0</th>\n",
       "      <td>E05001020</td>\n",
       "      <td>441185.00000</td>\n",
       "      <td>389923.00000</td>\n",
       "    </tr>\n",
       "    <tr>\n",
       "      <th>1</th>\n",
       "      <td>E05001039</td>\n",
       "      <td>437160.90379</td>\n",
       "      <td>384844.64723</td>\n",
       "    </tr>\n",
       "  </tbody>\n",
       "</table>\n",
       "</div>"
      ],
      "text/plain": [
       "   ward_code       easting      northing\n",
       "0  E05001020  441185.00000  389923.00000\n",
       "1  E05001039  437160.90379  384844.64723"
      ]
     },
     "execution_count": 963,
     "metadata": {},
     "output_type": "execute_result"
    }
   ],
   "source": [
    "# merge sheffield postcodes with ward dataset to get all wards in the city of sheffield \n",
    "sheffield_codes = pd.merge(sheffield_codes, pcodes, on='postcode', how='inner')\n",
    "# keep useful columns \n",
    "sheffield_codes = sheffield_codes.iloc[:, [3,1,2]]\n",
    "# more that one postcode is assigned to the same ward. group data by ward and take the mean of the\n",
    "# location to get a location coordinate for the ward.\n",
    "sheffield_codes = sheffield_codes.groupby('ward_code').mean().reset_index()\n",
    "sheffield_codes.head(2)"
   ]
  },
  {
   "cell_type": "code",
   "execution_count": 964,
   "metadata": {},
   "outputs": [
    {
     "name": "stdout",
     "output_type": "stream",
     "text": [
      "There are  30  demand zones in  Sheffield\n"
     ]
    }
   ],
   "source": [
    "print('There are ', str(sheffield_codes.shape[0]), ' demand zones in ', city)"
   ]
  },
  {
   "cell_type": "code",
   "execution_count": 965,
   "metadata": {},
   "outputs": [],
   "source": [
    "# Read population data \n",
    "# this gives data about the economically active population in the demand zone. \n",
    "pop = pd.read_csv('./unemploy.csv')"
   ]
  },
  {
   "cell_type": "code",
   "execution_count": 966,
   "metadata": {
    "scrolled": true
   },
   "outputs": [
    {
     "data": {
      "text/html": [
       "<div>\n",
       "<style scoped>\n",
       "    .dataframe tbody tr th:only-of-type {\n",
       "        vertical-align: middle;\n",
       "    }\n",
       "\n",
       "    .dataframe tbody tr th {\n",
       "        vertical-align: top;\n",
       "    }\n",
       "\n",
       "    .dataframe thead th {\n",
       "        text-align: right;\n",
       "    }\n",
       "</style>\n",
       "<table border=\"1\" class=\"dataframe\">\n",
       "  <thead>\n",
       "    <tr style=\"text-align: right;\">\n",
       "      <th></th>\n",
       "      <th>ward_code</th>\n",
       "      <th>economically active</th>\n",
       "    </tr>\n",
       "  </thead>\n",
       "  <tbody>\n",
       "    <tr>\n",
       "      <th>1</th>\n",
       "      <td>95AA01</td>\n",
       "      <td>2473</td>\n",
       "    </tr>\n",
       "    <tr>\n",
       "      <th>2</th>\n",
       "      <td>95AA02</td>\n",
       "      <td>892</td>\n",
       "    </tr>\n",
       "    <tr>\n",
       "      <th>3</th>\n",
       "      <td>95AA03</td>\n",
       "      <td>840</td>\n",
       "    </tr>\n",
       "    <tr>\n",
       "      <th>4</th>\n",
       "      <td>95AA04</td>\n",
       "      <td>1660</td>\n",
       "    </tr>\n",
       "    <tr>\n",
       "      <th>5</th>\n",
       "      <td>95AA05</td>\n",
       "      <td>1362</td>\n",
       "    </tr>\n",
       "  </tbody>\n",
       "</table>\n",
       "</div>"
      ],
      "text/plain": [
       "   ward_code economically active\n",
       "1  95AA01                   2473\n",
       "2  95AA02                    892\n",
       "3  95AA03                    840\n",
       "4  95AA04                   1660\n",
       "5  95AA05                   1362"
      ]
     },
     "execution_count": 966,
     "metadata": {},
     "output_type": "execute_result"
    }
   ],
   "source": [
    "population = pop\n",
    "population = population.iloc[:, [1,5]]\n",
    "population = population.iloc[1:]\n",
    "population = population.rename(index=str, columns={\"GEO_CODE\": \"ward_code\", \n",
    "                                     \"F244\": \"economically active\"})\n",
    "population.head()"
   ]
  },
  {
   "cell_type": "markdown",
   "metadata": {},
   "source": [
    "### Create a \"Demand\" Dataset\n",
    "At this point I need to generate data regarding the demand zones. Through the census data I was able to know how many people are economically active in each ward. An economically active individual is either employed or is looking for employment. \n",
    "\n",
    "I am assuming that each economically active individual of each ward will spend at least 10 pounds in supermarkets each week. After generating this assumption I can calculate the expenditure of each demand zone, and the total expenditure that the model will allocate to the supermarkets. "
   ]
  },
  {
   "cell_type": "code",
   "execution_count": 967,
   "metadata": {
    "scrolled": true
   },
   "outputs": [
    {
     "data": {
      "text/html": [
       "<div>\n",
       "<style scoped>\n",
       "    .dataframe tbody tr th:only-of-type {\n",
       "        vertical-align: middle;\n",
       "    }\n",
       "\n",
       "    .dataframe tbody tr th {\n",
       "        vertical-align: top;\n",
       "    }\n",
       "\n",
       "    .dataframe thead th {\n",
       "        text-align: right;\n",
       "    }\n",
       "</style>\n",
       "<table border=\"1\" class=\"dataframe\">\n",
       "  <thead>\n",
       "    <tr style=\"text-align: right;\">\n",
       "      <th></th>\n",
       "      <th>easting</th>\n",
       "      <th>northing</th>\n",
       "      <th>expenditure</th>\n",
       "    </tr>\n",
       "    <tr>\n",
       "      <th>ward_code</th>\n",
       "      <th></th>\n",
       "      <th></th>\n",
       "      <th></th>\n",
       "    </tr>\n",
       "  </thead>\n",
       "  <tbody>\n",
       "    <tr>\n",
       "      <th>E05001020</th>\n",
       "      <td>441185.000000</td>\n",
       "      <td>389923.000000</td>\n",
       "      <td>62920.0</td>\n",
       "    </tr>\n",
       "    <tr>\n",
       "      <th>E05001039</th>\n",
       "      <td>437160.903790</td>\n",
       "      <td>384844.647230</td>\n",
       "      <td>89230.0</td>\n",
       "    </tr>\n",
       "    <tr>\n",
       "      <th>E05001040</th>\n",
       "      <td>434464.363344</td>\n",
       "      <td>381142.086817</td>\n",
       "      <td>87710.0</td>\n",
       "    </tr>\n",
       "    <tr>\n",
       "      <th>E05001041</th>\n",
       "      <td>443061.252308</td>\n",
       "      <td>383108.584615</td>\n",
       "      <td>98910.0</td>\n",
       "    </tr>\n",
       "    <tr>\n",
       "      <th>E05001042</th>\n",
       "      <td>439911.310954</td>\n",
       "      <td>383325.293286</td>\n",
       "      <td>83920.0</td>\n",
       "    </tr>\n",
       "  </tbody>\n",
       "</table>\n",
       "</div>"
      ],
      "text/plain": [
       "                 easting       northing  expenditure\n",
       "ward_code                                           \n",
       "E05001020  441185.000000  389923.000000      62920.0\n",
       "E05001039  437160.903790  384844.647230      89230.0\n",
       "E05001040  434464.363344  381142.086817      87710.0\n",
       "E05001041  443061.252308  383108.584615      98910.0\n",
       "E05001042  439911.310954  383325.293286      83920.0"
      ]
     },
     "execution_count": 967,
     "metadata": {},
     "output_type": "execute_result"
    }
   ],
   "source": [
    "# merge sheffield wardcodes with population data to get information about population in each ward.\n",
    "demand = pd.merge(sheffield_codes, population, on='ward_code', how='inner')\n",
    "# convert population column to float \n",
    "demand['economically active'] = demand['economically active'].astype(float)\n",
    "\n",
    "# I am assuming that each economically active individual in the deman zone will spend 10 pounds per week on food. \n",
    "demand['expenditure'] = demand['economically active']*10\n",
    "demand = demand.iloc[:,[0,1,2,4]]\n",
    "demand = demand.set_index('ward_code')\n",
    "demand.head()"
   ]
  },
  {
   "cell_type": "code",
   "execution_count": 968,
   "metadata": {},
   "outputs": [
    {
     "name": "stdout",
     "output_type": "stream",
     "text": [
      "The total expenditure is  2782600.0  per week\n"
     ]
    }
   ],
   "source": [
    "print('The total expenditure is ', str(demand['expenditure'].sum()), ' per week')"
   ]
  },
  {
   "cell_type": "markdown",
   "metadata": {},
   "source": [
    "### Create a \"Supply\" Dataset \n",
    "\n",
    "The supply data needs to have information about the location and size of the retailer. It would be ideal to have exact information about the size of the retail point, however, the Geolytics data only gives a range of values. For example, store X is smaller than 280 sqm, or between 280 and 1400. To solve this problem, I decided to generate a random integer withing those bounds and to assume that to be the store size.  "
   ]
  },
  {
   "cell_type": "code",
   "execution_count": 969,
   "metadata": {},
   "outputs": [],
   "source": [
    "# merge retail points data with postcode data to attach ward code to each store. \n",
    "supply = pd.merge(retail_points_shef, pcodes, on='postcode', how='inner')"
   ]
  },
  {
   "cell_type": "code",
   "execution_count": 970,
   "metadata": {},
   "outputs": [],
   "source": [
    "# keep only useful columns \n",
    "supply_d = supply.iloc[:,[0,1,5,6,7]]\n",
    "# rename columns \n",
    "supply_d = supply_d.rename(index=str, columns={\"id\": \"id\", \"retailer\": \"retailer\",\n",
    "                                            'bng_e':'easting',\n",
    "                                            'bng_n': 'northing',\n",
    "                                            'size_sqm':'size'})"
   ]
  },
  {
   "cell_type": "code",
   "execution_count": 971,
   "metadata": {},
   "outputs": [
    {
     "data": {
      "text/plain": [
       "array(['Between 280 and 1,400', 'Over 2,800', 'Between 1,400 and 2,800',\n",
       "       'Less than 280'], dtype=object)"
      ]
     },
     "execution_count": 971,
     "metadata": {},
     "output_type": "execute_result"
    }
   ],
   "source": [
    "# what are the ranges of sizes we have? \n",
    "supply_d['size'].unique()"
   ]
  },
  {
   "cell_type": "code",
   "execution_count": 972,
   "metadata": {},
   "outputs": [],
   "source": [
    "# generate randon store sizes within the bounds of the ranges given. \n",
    "def size(row):\n",
    "    #assing all rows to unspecified \n",
    "    value = 0\n",
    "    # but, if  \n",
    "    if row['size'] == 'Between 280 and 1,400':\n",
    "        # give value \n",
    "        value = randint(280, 1400)\n",
    "    if row['size'] == 'Over 2,800': \n",
    "        value = randint(2800, 3500)\n",
    "    if row['size'] == 'Between 1,400 and 2,800':\n",
    "        value = randint(1400, 2800)\n",
    "    if row['size'] == 'Less than 280':\n",
    "        value = randint(100,280)\n",
    "    #at the end, return value\n",
    "    return value\n",
    "\n",
    "# apply function\n",
    "supply_d['size'] = supply_d.apply(size, axis=1)"
   ]
  },
  {
   "cell_type": "code",
   "execution_count": 973,
   "metadata": {
    "scrolled": true
   },
   "outputs": [
    {
     "data": {
      "text/html": [
       "<div>\n",
       "<style scoped>\n",
       "    .dataframe tbody tr th:only-of-type {\n",
       "        vertical-align: middle;\n",
       "    }\n",
       "\n",
       "    .dataframe tbody tr th {\n",
       "        vertical-align: top;\n",
       "    }\n",
       "\n",
       "    .dataframe thead th {\n",
       "        text-align: right;\n",
       "    }\n",
       "</style>\n",
       "<table border=\"1\" class=\"dataframe\">\n",
       "  <thead>\n",
       "    <tr style=\"text-align: right;\">\n",
       "      <th></th>\n",
       "      <th>retailer</th>\n",
       "      <th>easting</th>\n",
       "      <th>northing</th>\n",
       "      <th>size</th>\n",
       "    </tr>\n",
       "    <tr>\n",
       "      <th>id</th>\n",
       "      <th></th>\n",
       "      <th></th>\n",
       "      <th></th>\n",
       "      <th></th>\n",
       "    </tr>\n",
       "  </thead>\n",
       "  <tbody>\n",
       "    <tr>\n",
       "      <th>1010000414</th>\n",
       "      <td>Aldi</td>\n",
       "      <td>435703.41</td>\n",
       "      <td>394469.17</td>\n",
       "      <td>564</td>\n",
       "    </tr>\n",
       "    <tr>\n",
       "      <th>1010000423</th>\n",
       "      <td>Aldi</td>\n",
       "      <td>433918.19</td>\n",
       "      <td>383226.01</td>\n",
       "      <td>1114</td>\n",
       "    </tr>\n",
       "    <tr>\n",
       "      <th>1010001067</th>\n",
       "      <td>Asda</td>\n",
       "      <td>438184.00</td>\n",
       "      <td>384928.50</td>\n",
       "      <td>376</td>\n",
       "    </tr>\n",
       "    <tr>\n",
       "      <th>1010001068</th>\n",
       "      <td>Asda</td>\n",
       "      <td>435749.93</td>\n",
       "      <td>385867.44</td>\n",
       "      <td>554</td>\n",
       "    </tr>\n",
       "    <tr>\n",
       "      <th>1010001070</th>\n",
       "      <td>Asda</td>\n",
       "      <td>433051.56</td>\n",
       "      <td>390683.61</td>\n",
       "      <td>475</td>\n",
       "    </tr>\n",
       "  </tbody>\n",
       "</table>\n",
       "</div>"
      ],
      "text/plain": [
       "           retailer    easting   northing  size\n",
       "id                                             \n",
       "1010000414     Aldi  435703.41  394469.17   564\n",
       "1010000423     Aldi  433918.19  383226.01  1114\n",
       "1010001067     Asda  438184.00  384928.50   376\n",
       "1010001068     Asda  435749.93  385867.44   554\n",
       "1010001070     Asda  433051.56  390683.61   475"
      ]
     },
     "execution_count": 973,
     "metadata": {},
     "output_type": "execute_result"
    }
   ],
   "source": [
    "supply_d = supply_d.set_index('id')\n",
    "supply_d.head()"
   ]
  },
  {
   "cell_type": "markdown",
   "metadata": {},
   "source": [
    "Now that the supply dataset is complete, let's look at how many retail points each retailer has in Sheffield. \n",
    "\n",
    "The graph below shows that the retailer witht he highest number of retail points in **The Co-operative Group** with 25 stores withing the modelled area. "
   ]
  },
  {
   "cell_type": "code",
   "execution_count": 995,
   "metadata": {},
   "outputs": [
    {
     "data": {
      "text/html": [
       "<iframe id=\"igraph\" scrolling=\"no\" style=\"border:none;\" seamless=\"seamless\" src=\"https://plot.ly/~giacopini/3.embed\" height=\"525px\" width=\"100%\"></iframe>"
      ],
      "text/plain": [
       "<plotly.tools.PlotlyDisplay object>"
      ]
     },
     "execution_count": 995,
     "metadata": {},
     "output_type": "execute_result"
    }
   ],
   "source": [
    "# bar graph showing which supermarkets have more retail points. \n",
    "d = supply.groupby('retailer', as_index=False).count()\n",
    "d = d.sort_values(by=['id'], ascending = False)\n",
    "plotly.tools.set_credentials_file(username='giacopini', api_key='sAkPM0WuDb2Ah30ixDFx')\n",
    "\n",
    "trace0 = go.Bar(\n",
    "    x= d['retailer'],\n",
    "    y= d['id'],\n",
    "    marker=dict(\n",
    "        color=['rgba(204,204,204,1)', 'rgba(204,204,204,1)',\n",
    "               'rgba(204,204,204,1)', 'rgba(204,204,204,1)',\n",
    "               'rgba(204,204,204,1)', 'rgba(204,204,204,1)',\n",
    "               'rgba(204,204,204,1)','rgba(204,204,204,1)',\n",
    "               'rgba(204,204,204,1)','rgba(204,204,204,1)',\n",
    "               'rgba(204,204,204,1)','rgba(204,204,204,1)',\n",
    "               'rgba(204,204,204,1)']),\n",
    ")\n",
    "\n",
    "\n",
    "\n",
    "data = [trace0]\n",
    "layout = go.Layout(\n",
    "    title='Retail Points by Retailer',\n",
    ")\n",
    "\n",
    "fig = go.Figure(data=data, layout=layout)\n",
    "py.iplot(fig, filename='text-hover-bar')"
   ]
  },
  {
   "cell_type": "markdown",
   "metadata": {},
   "source": [
    "### Spatial Interaction Modelling"
   ]
  },
  {
   "cell_type": "markdown",
   "metadata": {},
   "source": [
    "To recap, the expected flow of money between a demand zone and a destination is calculated by\n",
    "$$S_{ij} = A_iO_iW_j exp(-\\beta C_{ij})$$\n",
    "\n",
    "Where, \n",
    "\n",
    "* $S_{ij}$ = flow of expected revenue of the supermarket\n",
    "\n",
    "* $A_i$ = balancing factor that takes into account competition and ensures that demand is allocated to stores within the modelled region. it is calculated as: \n",
    "\n",
    "$$ A_i = \\frac{1}{\\sum W_j exp (-\\beta C_{ij})}$$\n",
    " \n",
    "* $W_j$ = represents the overall attractiveness of store j. In this case size is used as a proxy of attractiveness. \n",
    "* $exp(-\\beta C_{ij})$ = represents the distance deterrence term. $\\beta$ is between 0 and 1. $\\beta$ = 0 means that the consumer does not mind travelling. $\\beta$ = 1 means that the consumer does not want to travel. $C_ij$ represents the distance between demand zone and supermarket. \n",
    "\n",
    "I will complete this analysis in 5 easy steps\n"
   ]
  },
  {
   "cell_type": "markdown",
   "metadata": {},
   "source": [
    "### 1. Calculate distance matrix $C_{ij}$\n",
    "This matrix contains the distance from demand zones to supermarkets. In this case we will calculate the euclidean distance. \n",
    "\n",
    "$${\\displaystyle d(\\mathbf {p} ,\\mathbf {q} )={\\sqrt {(q_{1}-p_{1})^{2}+(q_{2}-p_{2})^{2}}}.}$$"
   ]
  },
  {
   "cell_type": "code",
   "execution_count": 975,
   "metadata": {
    "scrolled": true
   },
   "outputs": [],
   "source": [
    "# get coordinates od demand\n",
    "coords_demand = demand.iloc[:,[0,1]]\n",
    "# create a column of dataset where both coordinate are in a tuple\n",
    "coords_demand['coords'] = coords_demand[['easting', 'northing']].apply(tuple, axis=1)\n",
    "# discard columns where coordinates where separated. \n",
    "coords_demand = coords_demand.iloc[:,2]"
   ]
  },
  {
   "cell_type": "code",
   "execution_count": 976,
   "metadata": {},
   "outputs": [],
   "source": [
    "# the same process is done for the supply dataset\n",
    "coords_supply = supply_d.iloc[:,[1,2]]\n",
    "coords_supply['coords'] = coords_supply[['easting', 'northing']].apply(tuple, axis=1)\n",
    "coords_supply = coords_supply.iloc[:,2]"
   ]
  },
  {
   "cell_type": "code",
   "execution_count": 977,
   "metadata": {
    "scrolled": true
   },
   "outputs": [],
   "source": [
    "# calculate euclidean distance and append to list\n",
    "distances = []\n",
    "for j in range(demand.shape[0]):\n",
    "    dist = []\n",
    "    for i in range(supply.shape[0]):\n",
    "        d = geopy.distance.vincenty(coords_demand.iloc[j],coords_supply.iloc[i]).km\n",
    "        dist.append(d)\n",
    "    distances.append(dist)  "
   ]
  },
  {
   "cell_type": "code",
   "execution_count": 978,
   "metadata": {},
   "outputs": [
    {
     "data": {
      "text/plain": [
       "array([[11579.27108757,  3860.08601596,  2354.13545013, ...,\n",
       "        15058.76513885, 14423.12474376, 10801.25890367],\n",
       "       [13002.83972318,  6594.27706577,  4201.59370656, ...,\n",
       "        12198.04459469, 11134.06820425,  8623.7485972 ],\n",
       "       [ 7485.44912617, 15358.11609151, 19007.36529306, ...,\n",
       "         3920.74525381,  5248.2822813 ,  9967.13700189],\n",
       "       ...,\n",
       "       [ 9891.47674492,  3270.82567274,  4617.65623753, ...,\n",
       "        13228.72711313, 13533.67819989, 12072.78118189],\n",
       "       [ 7012.16926539, 14166.74766633, 17899.46487534, ...,\n",
       "         1808.7926919 ,  4282.09260944, 10353.35099072],\n",
       "       [ 5277.39209246, 12923.88767578, 17655.99278047, ...,\n",
       "         6011.22017955,  7895.39624805, 12433.00585932]])"
      ]
     },
     "execution_count": 978,
     "metadata": {},
     "output_type": "execute_result"
    }
   ],
   "source": [
    "# distance [] is now a list of lists. I want to make it a dataframe to then convert it to matrix\n",
    "df = pd.DataFrame(distances)\n",
    "df = df.transpose()\n",
    "# convert to matrix \n",
    "Cij = df.as_matrix()\n",
    "# this is the matrix of distances. \n",
    "Cij"
   ]
  },
  {
   "cell_type": "markdown",
   "metadata": {},
   "source": [
    "### 2. Get $W_j$\n",
    "\n",
    "$W_j$ is the attractiveness of each retail point. In this project we are assuming that the attractiveness of a store is given by its size."
   ]
  },
  {
   "cell_type": "code",
   "execution_count": 979,
   "metadata": {},
   "outputs": [
    {
     "data": {
      "text/plain": [
       "array([ 564, 1114,  376,  554,  475,  478,  640, 1129, 1117, 2859, 2410,\n",
       "       3322,  245,  184,  621,  213,  120,  277,  171,  143,  114,  182,\n",
       "        228,  225,  118,  167,  107,  137,  238,  209,  213,  256,  811,\n",
       "        207,  821,  907,  867,  216,  280,  267,  267,  169,  279,  141,\n",
       "        167,  816,  296,  170,  684,  184,  519,  267,  157,  176,  278,\n",
       "        519,  599, 1126,  202,  611, 1198, 1098,  339,  692,  671,  493,\n",
       "        116,  151,  403,  141,  957,  127,  738,  773])"
      ]
     },
     "execution_count": 979,
     "metadata": {},
     "output_type": "execute_result"
    }
   ],
   "source": [
    "Wj = np.array(supply_d.iloc[:,3])\n",
    "Wj"
   ]
  },
  {
   "cell_type": "markdown",
   "metadata": {},
   "source": [
    "### 3. Get $O_i$\n",
    "\n",
    "$O_i$ is the expenditure available to consumers. "
   ]
  },
  {
   "cell_type": "code",
   "execution_count": 980,
   "metadata": {
    "scrolled": true
   },
   "outputs": [
    {
     "data": {
      "text/plain": [
       "array([ 62920.,  89230.,  87710.,  98910.,  83920.,  79470., 104930.,\n",
       "       171180.,  91600.,  98530.,  81090.,  96990.,  97170.,  86730.,\n",
       "        80690., 109310.,  93370., 104160.,  97100.,  93620., 108050.,\n",
       "        89900., 100280.,  89000.,  94300.,  94040., 104530.,  91290.,\n",
       "        85290.,  17290.])"
      ]
     },
     "execution_count": 980,
     "metadata": {},
     "output_type": "execute_result"
    }
   ],
   "source": [
    "Oi = np.array(demand.iloc[:,2])\n",
    "Oi"
   ]
  },
  {
   "cell_type": "markdown",
   "metadata": {},
   "source": [
    "### 4. Calculate $A_i$\n",
    "\n",
    "$A_i$ is given by: \n",
    "\n",
    "$$ A_i = \\frac{1}{\\sum W_j exp (-\\beta C_{ij})}$$\n",
    "\n",
    "I am choosing a values of $\\beta$ = 0.1\n",
    " "
   ]
  },
  {
   "cell_type": "code",
   "execution_count": 981,
   "metadata": {
    "scrolled": true
   },
   "outputs": [
    {
     "data": {
      "text/plain": [
       "array([0.00453988, 0.00116031, 0.00347252, 0.00056773, 0.00643182,\n",
       "       0.00042309, 0.00242608, 0.00048883, 0.00109226, 0.00790952,\n",
       "       0.00606139, 0.00469699, 0.00124282, 0.00455464, 0.00698599,\n",
       "       0.00043149, 0.00349689, 0.00148882, 0.00865989, 0.00459416,\n",
       "       0.01388143, 0.00053801, 0.00546915, 0.00176784, 0.00568889,\n",
       "       0.00689344, 0.00076225, 0.00292   , 0.00877174, 0.00597103])"
      ]
     },
     "execution_count": 981,
     "metadata": {},
     "output_type": "execute_result"
    }
   ],
   "source": [
    "beta = 0.001\n",
    "# take exp of distance matrix and mulptiply by negative beta\n",
    "exp = np.exp(-beta*Cij)\n",
    "# multiply exponential by w\n",
    "w = exp.T * Wj\n",
    "# sum across\n",
    "s = w.sum(axis=1)\n",
    "# take inverse of sum \n",
    "Ai = 1/s\n",
    "Ai"
   ]
  },
  {
   "cell_type": "markdown",
   "metadata": {},
   "source": [
    "### 5. Calculate flow of money $S_{ij}$"
   ]
  },
  {
   "cell_type": "code",
   "execution_count": 982,
   "metadata": {},
   "outputs": [],
   "source": [
    "Sij = w.T*(Ai*Oi)\n",
    "Sij = Sij.sum(axis=1)"
   ]
  },
  {
   "cell_type": "code",
   "execution_count": 983,
   "metadata": {},
   "outputs": [],
   "source": [
    "supply['expected revenue'] = Sij"
   ]
  },
  {
   "cell_type": "code",
   "execution_count": 984,
   "metadata": {},
   "outputs": [
    {
     "data": {
      "text/html": [
       "<div>\n",
       "<style scoped>\n",
       "    .dataframe tbody tr th:only-of-type {\n",
       "        vertical-align: middle;\n",
       "    }\n",
       "\n",
       "    .dataframe tbody tr th {\n",
       "        vertical-align: top;\n",
       "    }\n",
       "\n",
       "    .dataframe thead th {\n",
       "        text-align: right;\n",
       "    }\n",
       "</style>\n",
       "<table border=\"1\" class=\"dataframe\">\n",
       "  <thead>\n",
       "    <tr style=\"text-align: right;\">\n",
       "      <th></th>\n",
       "      <th>id</th>\n",
       "      <th>retailer</th>\n",
       "      <th>postcode</th>\n",
       "      <th>long_wgs</th>\n",
       "      <th>lat_wgs</th>\n",
       "      <th>bng_e</th>\n",
       "      <th>bng_n</th>\n",
       "      <th>size_sqm</th>\n",
       "      <th>ward_code</th>\n",
       "      <th>expected revenue</th>\n",
       "    </tr>\n",
       "  </thead>\n",
       "  <tbody>\n",
       "    <tr>\n",
       "      <th>0</th>\n",
       "      <td>1010000414</td>\n",
       "      <td>Aldi</td>\n",
       "      <td>S35 9WN</td>\n",
       "      <td>-1.463917</td>\n",
       "      <td>53.445787</td>\n",
       "      <td>435703.41</td>\n",
       "      <td>394469.17</td>\n",
       "      <td>Between 280 and 1,400</td>\n",
       "      <td>E05001049</td>\n",
       "      <td>57640.371280</td>\n",
       "    </tr>\n",
       "    <tr>\n",
       "      <th>1</th>\n",
       "      <td>1010000423</td>\n",
       "      <td>Aldi</td>\n",
       "      <td>S8 0JX</td>\n",
       "      <td>-1.491998</td>\n",
       "      <td>53.344848</td>\n",
       "      <td>433918.19</td>\n",
       "      <td>383226.01</td>\n",
       "      <td>Between 280 and 1,400</td>\n",
       "      <td>E05001054</td>\n",
       "      <td>43311.984362</td>\n",
       "    </tr>\n",
       "    <tr>\n",
       "      <th>2</th>\n",
       "      <td>1010001067</td>\n",
       "      <td>Asda</td>\n",
       "      <td>S12 2AB</td>\n",
       "      <td>-1.427722</td>\n",
       "      <td>53.359861</td>\n",
       "      <td>438184.00</td>\n",
       "      <td>384928.50</td>\n",
       "      <td>Between 280 and 1,400</td>\n",
       "      <td>E05001039</td>\n",
       "      <td>30038.787629</td>\n",
       "    </tr>\n",
       "    <tr>\n",
       "      <th>3</th>\n",
       "      <td>1010001068</td>\n",
       "      <td>Asda</td>\n",
       "      <td>S2 4DR</td>\n",
       "      <td>-1.464188</td>\n",
       "      <td>53.368470</td>\n",
       "      <td>435749.93</td>\n",
       "      <td>385867.44</td>\n",
       "      <td>Between 280 and 1,400</td>\n",
       "      <td>E05001045</td>\n",
       "      <td>80683.218132</td>\n",
       "    </tr>\n",
       "    <tr>\n",
       "      <th>4</th>\n",
       "      <td>1010001070</td>\n",
       "      <td>Asda</td>\n",
       "      <td>S6 1TA</td>\n",
       "      <td>-1.504237</td>\n",
       "      <td>53.411934</td>\n",
       "      <td>433051.56</td>\n",
       "      <td>390683.61</td>\n",
       "      <td>Between 280 and 1,400</td>\n",
       "      <td>E05001055</td>\n",
       "      <td>21700.866842</td>\n",
       "    </tr>\n",
       "  </tbody>\n",
       "</table>\n",
       "</div>"
      ],
      "text/plain": [
       "           id retailer postcode  long_wgs    lat_wgs      bng_e      bng_n  \\\n",
       "0  1010000414     Aldi  S35 9WN -1.463917  53.445787  435703.41  394469.17   \n",
       "1  1010000423     Aldi   S8 0JX -1.491998  53.344848  433918.19  383226.01   \n",
       "2  1010001067     Asda  S12 2AB -1.427722  53.359861  438184.00  384928.50   \n",
       "3  1010001068     Asda   S2 4DR -1.464188  53.368470  435749.93  385867.44   \n",
       "4  1010001070     Asda   S6 1TA -1.504237  53.411934  433051.56  390683.61   \n",
       "\n",
       "                size_sqm  ward_code  expected revenue  \n",
       "0  Between 280 and 1,400  E05001049      57640.371280  \n",
       "1  Between 280 and 1,400  E05001054      43311.984362  \n",
       "2  Between 280 and 1,400  E05001039      30038.787629  \n",
       "3  Between 280 and 1,400  E05001045      80683.218132  \n",
       "4  Between 280 and 1,400  E05001055      21700.866842  "
      ]
     },
     "execution_count": 984,
     "metadata": {},
     "output_type": "execute_result"
    }
   ],
   "source": [
    "supply.head()"
   ]
  },
  {
   "cell_type": "code",
   "execution_count": 985,
   "metadata": {},
   "outputs": [
    {
     "name": "stdout",
     "output_type": "stream",
     "text": [
      "the total revenue is  2782600.0  the total money household have to spend on food is  2782600.0\n"
     ]
    }
   ],
   "source": [
    "# has all money been allocated? \n",
    "total_revenue = Sij.sum()\n",
    "total_demand = Oi.sum()\n",
    "\n",
    "print('the total revenue is ', total_revenue, ' the total money household have to spend on food is ', total_demand )"
   ]
  },
  {
   "cell_type": "markdown",
   "metadata": {},
   "source": [
    "## Findings"
   ]
  },
  {
   "cell_type": "code",
   "execution_count": 986,
   "metadata": {},
   "outputs": [],
   "source": [
    "# bar graph to show which retailer is expected the higher weekly revenue\n",
    "total_revs = supply.groupby('retailer', as_index=False).sum()\n",
    "# sort from higher expected revenue to lower\n",
    "total_revs = total_revs.sort_values(by=['expected revenue'], ascending = False)"
   ]
  },
  {
   "cell_type": "code",
   "execution_count": 992,
   "metadata": {},
   "outputs": [
    {
     "data": {
      "text/html": [
       "<iframe id=\"igraph\" scrolling=\"no\" style=\"border:none;\" seamless=\"seamless\" src=\"https://plot.ly/~giacopini/7.embed\" height=\"525px\" width=\"100%\"></iframe>"
      ],
      "text/plain": [
       "<plotly.tools.PlotlyDisplay object>"
      ]
     },
     "execution_count": 992,
     "metadata": {},
     "output_type": "execute_result"
    }
   ],
   "source": [
    "trace0 = go.Bar(\n",
    "    x= total_revs['retailer'],\n",
    "    y= total_revs['expected revenue'],\n",
    "    marker=dict(\n",
    "        color=['rgba(222,45,38,0.8)', 'rgba(204,204,204,1)',\n",
    "               'rgba(204,204,204,1)', 'rgba(204,204,204,1)',\n",
    "               'rgba(204,204,204,1)', 'rgba(204,204,204,1)',\n",
    "               'rgba(204,204,204,1)','rgba(204,204,204,1)',\n",
    "               'rgba(204,204,204,1)','rgba(204,204,204,1)',\n",
    "               'rgba(204,204,204,1)','rgba(204,204,204,1)',\n",
    "               'rgba(204,204,204,1)']),\n",
    ")\n",
    "\n",
    "data = [trace0]\n",
    "layout = go.Layout(\n",
    "    title='Retailer Weekly Expected Revenue',\n",
    ")\n",
    "\n",
    "fig = go.Figure(data=data, layout=layout)\n",
    "py.iplot(fig, filename='color-bar')"
   ]
  },
  {
   "cell_type": "markdown",
   "metadata": {},
   "source": [
    "We can see that **The Co-operatvie Group** is the retailer that can expect the highest weekly revenue. This can be due to the fact that they have 25 retail points in Sheffield. The picture below shows that The Co-operative Group can expect to receive the 24.2% of the expenditure available in the modelled area (Sheffield).\n",
    "\n",
    "It is also important to point out how **Morrisons**, with just 2 stores in the city was able to attract 12% of total demand. This is possibly due to the fact that the retailer has attractive stores in attractive locations. "
   ]
  },
  {
   "cell_type": "code",
   "execution_count": 988,
   "metadata": {
    "scrolled": true
   },
   "outputs": [
    {
     "data": {
      "text/html": [
       "<iframe id=\"igraph\" scrolling=\"no\" style=\"border:none;\" seamless=\"seamless\" src=\"https://plot.ly/~giacopini/5.embed\" height=\"525px\" width=\"100%\"></iframe>"
      ],
      "text/plain": [
       "<plotly.tools.PlotlyDisplay object>"
      ]
     },
     "execution_count": 988,
     "metadata": {},
     "output_type": "execute_result"
    }
   ],
   "source": [
    "# pie chart\n",
    "labels = total_revs['retailer']\n",
    "values = total_revs['expected revenue']\n",
    "\n",
    "trace = go.Pie(labels=labels, values=values)\n",
    "\n",
    "py.iplot([trace], filename='basic_pie_chart')\n"
   ]
  },
  {
   "cell_type": "markdown",
   "metadata": {},
   "source": [
    "### Conclusion\n",
    "<hr>\n",
    "This project is an attempt at using spatial interaction modelling to predict revenue of Sheffield supermarkets. This model can be improved with information regarding store sizes, actual available expenditure, actual data regarding deman zones. \n",
    "\n",
    "Thank you to the CDRC and the lecturers for introducting me to SIM, a technique I will definitely take into account when working on my own retailing research. "
   ]
  }
 ],
 "metadata": {
  "kernelspec": {
   "display_name": "Python 3",
   "language": "python",
   "name": "python3"
  },
  "language_info": {
   "codemirror_mode": {
    "name": "ipython",
    "version": 3
   },
   "file_extension": ".py",
   "mimetype": "text/x-python",
   "name": "python",
   "nbconvert_exporter": "python",
   "pygments_lexer": "ipython3",
   "version": "3.6.4"
  }
 },
 "nbformat": 4,
 "nbformat_minor": 2
}
